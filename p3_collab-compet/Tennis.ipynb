{
 "cells": [
  {
   "cell_type": "markdown",
   "metadata": {},
   "source": [
    "# Collaboration and Competition\n",
    "\n",
    "---\n",
    "\n",
    "In this notebook, you will learn how to use the Unity ML-Agents environment for the third project of the [Deep Reinforcement Learning Nanodegree](https://www.udacity.com/course/deep-reinforcement-learning-nanodegree--nd893) program.\n",
    "\n",
    "### 1. Start the Environment\n",
    "\n",
    "We begin by importing the necessary packages.  If the code cell below returns an error, please revisit the project instructions to double-check that you have installed [Unity ML-Agents](https://github.com/Unity-Technologies/ml-agents/blob/master/docs/Installation.md) and [NumPy](http://www.numpy.org/)."
   ]
  },
  {
   "cell_type": "code",
   "execution_count": 79,
   "metadata": {},
   "outputs": [],
   "source": [
    "import matplotlib.pyplot as plt\n",
    "%matplotlib inline\n",
    "\n",
    "import torch\n",
    "import time\n",
    "import numpy as np\n",
    "\n",
    "from collections import deque\n",
    "from ddpg_agent import Agent\n",
    "from unityagents import UnityEnvironment"
   ]
  },
  {
   "cell_type": "code",
   "execution_count": null,
   "metadata": {},
   "outputs": [],
   "source": [
    "SEED = 1"
   ]
  },
  {
   "cell_type": "markdown",
   "metadata": {},
   "source": [
    "Next, we will start the environment!  **_Before running the code cell below_**, change the `file_name` parameter to match the location of the Unity environment that you downloaded.\n",
    "\n",
    "- **Mac**: `\"path/to/Tennis.app\"`\n",
    "- **Windows** (x86): `\"path/to/Tennis_Windows_x86/Tennis.exe\"`\n",
    "- **Windows** (x86_64): `\"path/to/Tennis_Windows_x86_64/Tennis.exe\"`\n",
    "- **Linux** (x86): `\"path/to/Tennis_Linux/Tennis.x86\"`\n",
    "- **Linux** (x86_64): `\"path/to/Tennis_Linux/Tennis.x86_64\"`\n",
    "- **Linux** (x86, headless): `\"path/to/Tennis_Linux_NoVis/Tennis.x86\"`\n",
    "- **Linux** (x86_64, headless): `\"path/to/Tennis_Linux_NoVis/Tennis.x86_64\"`\n",
    "\n",
    "For instance, if you are using a Mac, then you downloaded `Tennis.app`.  If this file is in the same folder as the notebook, then the line below should appear as follows:\n",
    "```\n",
    "env = UnityEnvironment(file_name=\"Tennis.app\")\n",
    "```"
   ]
  },
  {
   "cell_type": "code",
   "execution_count": 3,
   "metadata": {},
   "outputs": [
    {
     "name": "stderr",
     "output_type": "stream",
     "text": [
      "INFO:unityagents:\n",
      "'Academy' started successfully!\n",
      "Unity Academy name: Academy\n",
      "        Number of Brains: 1\n",
      "        Number of External Brains : 1\n",
      "        Lesson number : 0\n",
      "        Reset Parameters :\n",
      "\t\t\n",
      "Unity brain name: TennisBrain\n",
      "        Number of Visual Observations (per agent): 0\n",
      "        Vector Observation space type: continuous\n",
      "        Vector Observation space size (per agent): 8\n",
      "        Number of stacked Vector Observation: 3\n",
      "        Vector Action space type: continuous\n",
      "        Vector Action space size (per agent): 2\n",
      "        Vector Action descriptions: , \n"
     ]
    }
   ],
   "source": [
    "env = UnityEnvironment(file_name=\"Tennis_Windows_x86_64\\Tennis.exe\")"
   ]
  },
  {
   "cell_type": "markdown",
   "metadata": {},
   "source": [
    "Environments contain **_brains_** which are responsible for deciding the actions of their associated agents. Here we check for the first brain available, and set it as the default brain we will be controlling from Python."
   ]
  },
  {
   "cell_type": "code",
   "execution_count": 4,
   "metadata": {},
   "outputs": [],
   "source": [
    "# get the default brain\n",
    "brain_name = env.brain_names[0]\n",
    "brain = env.brains[brain_name]"
   ]
  },
  {
   "cell_type": "markdown",
   "metadata": {},
   "source": [
    "### 2. Examine the State and Action Spaces\n",
    "\n",
    "In this environment, two agents control rackets to bounce a ball over a net. If an agent hits the ball over the net, it receives a reward of +0.1.  If an agent lets a ball hit the ground or hits the ball out of bounds, it receives a reward of -0.01.  Thus, the goal of each agent is to keep the ball in play.\n",
    "\n",
    "The observation space consists of 8 variables corresponding to the position and velocity of the ball and racket. Two continuous actions are available, corresponding to movement toward (or away from) the net, and jumping. \n",
    "\n",
    "Run the code cell below to print some information about the environment."
   ]
  },
  {
   "cell_type": "code",
   "execution_count": 5,
   "metadata": {},
   "outputs": [
    {
     "name": "stdout",
     "output_type": "stream",
     "text": [
      "Number of agents: 2\n",
      "Size of each action: 2\n",
      "There are 2 agents. Each observes a state with length: 24\n",
      "The state for the first agent looks like: [ 0.          0.          0.          0.          0.          0.\n",
      "  0.          0.          0.          0.          0.          0.\n",
      "  0.          0.          0.          0.         -6.65278625 -1.5\n",
      " -0.          0.          6.83172083  6.         -0.          0.        ]\n"
     ]
    }
   ],
   "source": [
    "# reset the environment\n",
    "env_info = env.reset(train_mode=True)[brain_name]\n",
    "\n",
    "# number of agents \n",
    "num_agents = len(env_info.agents)\n",
    "print('Number of agents:', num_agents)\n",
    "\n",
    "# size of each action\n",
    "action_size = brain.vector_action_space_size\n",
    "print('Size of each action:', action_size)\n",
    "\n",
    "# examine the state space \n",
    "states = env_info.vector_observations\n",
    "state_size = states.shape[1]\n",
    "print('There are {} agents. Each observes a state with length: {}'.format(states.shape[0], state_size))\n",
    "print('The state for the first agent looks like:', states[0])"
   ]
  },
  {
   "cell_type": "markdown",
   "metadata": {},
   "source": [
    "### 3. Take Random Actions in the Environment\n",
    "\n",
    "In the next code cell, you will learn how to use the Python API to control the agents and receive feedback from the environment.\n",
    "\n",
    "Once this cell is executed, you will watch the agents' performance, if they select actions at random with each time step.  A window should pop up that allows you to observe the agents.\n",
    "\n",
    "Of course, as part of the project, you'll have to change the code so that the agents are able to use their experiences to gradually choose better actions when interacting with the environment!"
   ]
  },
  {
   "cell_type": "code",
   "execution_count": 31,
   "metadata": {},
   "outputs": [
    {
     "name": "stdout",
     "output_type": "stream",
     "text": [
      "Score (max over agents) from episode 1: 0.0\n",
      "Score (max over agents) from episode 2: 0.0\n",
      "Score (max over agents) from episode 3: 0.0\n",
      "Score (max over agents) from episode 4: 0.09000000171363354\n",
      "Score (max over agents) from episode 5: 0.0\n"
     ]
    }
   ],
   "source": [
    "for i in range(1, 6):                                      # play game for 5 episodes\n",
    "    env_info = env.reset(train_mode=False)[brain_name]     # reset the environment    \n",
    "    states = env_info.vector_observations                  # get the current state (for each agent)\n",
    "    scores = np.zeros(num_agents)                          # initialize the score (for each agent)\n",
    "    while True:\n",
    "        actions = np.random.randn(num_agents, action_size) # select an action (for each agent)\n",
    "        actions = np.clip(actions, -1, 1)                  # all actions between -1 and 1\n",
    "        env_info = env.step(actions)[brain_name]           # send all actions to tne environment\n",
    "        next_states = env_info.vector_observations         # get next state (for each agent)\n",
    "        rewards = env_info.rewards                         # get reward (for each agent)\n",
    "        dones = env_info.local_done                        # see if episode finished\n",
    "        scores += env_info.rewards                         # update the score (for each agent)\n",
    "        states = next_states                               # roll over states to next time step\n",
    "        if np.any(dones):                                  # exit loop if episode finished\n",
    "            break\n",
    "    print('Score (max over agents) from episode {}: {}'.format(i, np.max(scores)))"
   ]
  },
  {
   "cell_type": "markdown",
   "metadata": {},
   "source": [
    "### 4. Time to put some Intelligence into Actions!\n",
    "\n",
    "Now it's time to train our agent to solve the environment!  When training the environment, we set `train_mode=True`, so that the line for resetting the environment looks like the following:\n",
    "```python\n",
    "env_info = env.reset(train_mode=True)[brain_name]\n",
    "```"
   ]
  },
  {
   "cell_type": "code",
   "execution_count": 73,
   "metadata": {},
   "outputs": [],
   "source": [
    "C_EPISODES = 100 # consecutive episodes\n",
    "\n",
    "agent = Agent(state_size=state_size, action_size=action_size, random_seed=SEED)"
   ]
  },
  {
   "cell_type": "code",
   "execution_count": 74,
   "metadata": {},
   "outputs": [],
   "source": [
    "def ddpg(n_episodes=1000, max_t=1000, print_every=10):\n",
    "    \"\"\"Deep Deterministic Policy Gradient (DDPG)\n",
    "    \n",
    "    Params\n",
    "    ======\n",
    "        n_episodes  (int)   : maximum number of training episodes\n",
    "        max_t       (int)   : maximum number of timesteps per episode\n",
    "        print_every (int)   : interval to display results\n",
    "\n",
    "    \"\"\"\n",
    "    scores_window = deque(maxlen=100)\n",
    "    scores_all = []\n",
    "    moving_average = []\n",
    "    best_score = -np.inf\n",
    "    best_episode = 0\n",
    "    solved = False\n",
    "    c_states = state_size * 2 # combine states\n",
    "    \n",
    "    for i_episode in range(1, n_episodes+1):\n",
    "        env_info = env.reset(train_mode=True)[brain_name]       # (1) reset environment\n",
    "        states = env_info.vector_observations                   # (2) get current state for each agent      \n",
    "        scores = np.zeros(num_agents)                           # initialize score for each agent\n",
    "        agent.reset()\n",
    "        start_time = time.time()\n",
    "        for t in range(max_t):\n",
    "            actions = agent.act(states, add_noise=True)         # select an action\n",
    "            env_info = env.step(actions)[brain_name]            # (3) send actions to environment\n",
    "            next_states = env_info.vector_observations          # (4) get next state\n",
    "            rewards = env_info.rewards                          # (5) get reward\n",
    "            dones = env_info.local_done                         # (6_ see if episode has finished\n",
    "            # save experience to replay buffer, perform learning step at defined interval\n",
    "#             for state, action, reward, next_state, done in zip(states, actions, rewards, next_states, dones): \n",
    "#                 agent.step(state, action, reward, next_state, done, t)\n",
    "            for i in range(0, num_agents):\n",
    "                agent.step(states[i], actions[i], rewards[i], next_states[i], dones[i], t)\n",
    "            states = next_states\n",
    "            scores += np.max(rewards)        \n",
    "            if np.any(dones):                                   # exit loop when episode ends\n",
    "                break\n",
    "\n",
    "        duration = time.time() - start_time\n",
    "        ep_best = np.max(scores)\n",
    "        scores_window.append(ep_best)       # save mean score to window\n",
    "        scores_all.append(ep_best)\n",
    "        moving_average.append(np.mean(scores_window))  # save moving average\n",
    "                \n",
    "        if i_episode % print_every == 0:\n",
    "            print('\\rEpisode {} ({}s)\\Max: {:.1f}\\tMoving Avg: {:.1f}'.format(\\\n",
    "                  i_episode, round(duration), ep_best, moving_average[-1]))\n",
    "                  \n",
    "        if moving_average[-1] >= 0.5: # Reached goal?\n",
    "            if not solved:\n",
    "                print('\\n\\tEnvironment solved in {:d} episodes! \\\n",
    "                \\n\\tMoving Average: {:.3f} (over past {:d} episodes)\\n'.format(\n",
    "                    i_episode-C_EPISODES, moving_average[-1], C_EPISODES))\n",
    "                solved = True\n",
    "                \n",
    "                torch.save(agent.actor_local.state_dict(), \"weights/actor_ckpt.pth\")\n",
    "                torch.save(agent.critic_local.state_dict(), \"weights/critic_ckpt.pth\")\n",
    "                \n",
    "            elif ep_best >= best_score:\n",
    "                torch.save(agent.actor_local.state_dict(),  \"weights/actor_ckpt.pth\")\n",
    "                torch.save(agent.critic_local.state_dict(), \"weights/critic_ckpt.pth\")\n",
    "                \n",
    "            elif (i_episode - best_episode) >= 200:\n",
    "                print('\\n\\tTraining stopped: best score stale for 200 episodes.')\n",
    "                break\n",
    "                \n",
    "            else:\n",
    "                continue\n",
    "            \n",
    "    return scores_all, moving_average"
   ]
  },
  {
   "cell_type": "code",
   "execution_count": 75,
   "metadata": {},
   "outputs": [],
   "source": [
    "start = time.time()"
   ]
  },
  {
   "cell_type": "code",
   "execution_count": 76,
   "metadata": {},
   "outputs": [
    {
     "name": "stdout",
     "output_type": "stream",
     "text": [
      "Episode 10 (0s)\\Max: 0.0\tMoving Avg: 0.0\n",
      "Episode 20 (0s)\\Max: 0.0\tMoving Avg: 0.0\n",
      "Episode 30 (0s)\\Max: 0.0\tMoving Avg: 0.0\n",
      "Episode 40 (0s)\\Max: 0.0\tMoving Avg: 0.0\n",
      "Episode 50 (0s)\\Max: 0.0\tMoving Avg: 0.0\n",
      "Episode 60 (0s)\\Max: 0.0\tMoving Avg: 0.0\n",
      "Episode 70 (0s)\\Max: 0.0\tMoving Avg: 0.0\n",
      "Episode 80 (0s)\\Max: 0.0\tMoving Avg: 0.0\n",
      "Episode 90 (0s)\\Max: 0.0\tMoving Avg: 0.0\n",
      "Episode 100 (0s)\\Max: 0.0\tMoving Avg: 0.0\n",
      "Episode 110 (0s)\\Max: 0.0\tMoving Avg: 0.0\n",
      "Episode 120 (0s)\\Max: 0.0\tMoving Avg: 0.0\n",
      "Episode 130 (1s)\\Max: 0.1\tMoving Avg: 0.0\n",
      "Episode 140 (0s)\\Max: 0.0\tMoving Avg: 0.0\n",
      "Episode 150 (1s)\\Max: 0.1\tMoving Avg: 0.0\n",
      "Episode 160 (0s)\\Max: 0.0\tMoving Avg: 0.0\n",
      "Episode 170 (0s)\\Max: 0.0\tMoving Avg: 0.0\n",
      "Episode 180 (0s)\\Max: 0.0\tMoving Avg: 0.0\n",
      "Episode 190 (0s)\\Max: 0.0\tMoving Avg: 0.0\n",
      "Episode 200 (0s)\\Max: 0.0\tMoving Avg: 0.1\n",
      "Episode 210 (0s)\\Max: 0.0\tMoving Avg: 0.1\n",
      "Episode 220 (0s)\\Max: 0.0\tMoving Avg: 0.1\n",
      "Episode 230 (0s)\\Max: 0.0\tMoving Avg: 0.1\n",
      "Episode 240 (1s)\\Max: 0.2\tMoving Avg: 0.1\n",
      "Episode 250 (1s)\\Max: 0.2\tMoving Avg: 0.1\n",
      "Episode 260 (1s)\\Max: 0.2\tMoving Avg: 0.1\n",
      "Episode 270 (0s)\\Max: 0.0\tMoving Avg: 0.1\n",
      "Episode 280 (0s)\\Max: 0.0\tMoving Avg: 0.1\n",
      "Episode 290 (1s)\\Max: 0.2\tMoving Avg: 0.1\n",
      "Episode 300 (0s)\\Max: 0.0\tMoving Avg: 0.1\n",
      "Episode 310 (0s)\\Max: 0.0\tMoving Avg: 0.1\n",
      "Episode 320 (0s)\\Max: 0.0\tMoving Avg: 0.1\n",
      "Episode 330 (0s)\\Max: 0.0\tMoving Avg: 0.1\n",
      "Episode 340 (0s)\\Max: 0.0\tMoving Avg: 0.1\n",
      "Episode 350 (0s)\\Max: 0.0\tMoving Avg: 0.1\n",
      "Episode 360 (0s)\\Max: 0.0\tMoving Avg: 0.0\n",
      "Episode 370 (0s)\\Max: 0.0\tMoving Avg: 0.0\n",
      "Episode 380 (0s)\\Max: 0.0\tMoving Avg: 0.0\n",
      "Episode 390 (0s)\\Max: 0.0\tMoving Avg: 0.0\n",
      "Episode 400 (0s)\\Max: 0.0\tMoving Avg: 0.0\n",
      "Episode 410 (0s)\\Max: 0.0\tMoving Avg: 0.0\n",
      "Episode 420 (0s)\\Max: 0.0\tMoving Avg: 0.0\n",
      "Episode 430 (0s)\\Max: 0.0\tMoving Avg: 0.0\n",
      "Episode 440 (0s)\\Max: 0.0\tMoving Avg: 0.0\n",
      "Episode 450 (0s)\\Max: 0.0\tMoving Avg: 0.0\n",
      "Episode 460 (1s)\\Max: 0.1\tMoving Avg: 0.0\n",
      "Episode 470 (0s)\\Max: 0.0\tMoving Avg: 0.0\n",
      "Episode 480 (1s)\\Max: 0.4\tMoving Avg: 0.0\n",
      "Episode 490 (1s)\\Max: 0.3\tMoving Avg: 0.0\n",
      "Episode 500 (1s)\\Max: 0.2\tMoving Avg: 0.1\n",
      "Episode 510 (2s)\\Max: 0.6\tMoving Avg: 0.1\n",
      "Episode 520 (1s)\\Max: 0.1\tMoving Avg: 0.1\n",
      "Episode 530 (1s)\\Max: 0.1\tMoving Avg: 0.1\n",
      "Episode 540 (1s)\\Max: 0.1\tMoving Avg: 0.2\n",
      "Episode 550 (1s)\\Max: 0.3\tMoving Avg: 0.2\n",
      "Episode 560 (1s)\\Max: 0.1\tMoving Avg: 0.2\n",
      "Episode 570 (1s)\\Max: 0.1\tMoving Avg: 0.2\n",
      "Episode 580 (1s)\\Max: 0.1\tMoving Avg: 0.2\n",
      "Episode 590 (1s)\\Max: 0.1\tMoving Avg: 0.2\n",
      "Episode 600 (2s)\\Max: 0.4\tMoving Avg: 0.2\n",
      "Episode 610 (1s)\\Max: 0.3\tMoving Avg: 0.2\n",
      "Episode 620 (1s)\\Max: 0.2\tMoving Avg: 0.3\n",
      "Episode 630 (1s)\\Max: 0.1\tMoving Avg: 0.4\n",
      "Episode 640 (1s)\\Max: 0.1\tMoving Avg: 0.5\n",
      "\n",
      "Environment solved in 549 episodes!\tAverage Score: 0.53\n"
     ]
    }
   ],
   "source": [
    "# run the training loop\n",
    "agent = Agent(state_size=state_size, action_size=action_size, random_seed=SEED)\n",
    "scores, avgs = ddpg()\n",
    "\n",
    "# Environment solved in 296 episodes!\tAverage Score: 30.03"
   ]
  },
  {
   "cell_type": "code",
   "execution_count": 77,
   "metadata": {},
   "outputs": [
    {
     "name": "stdout",
     "output_type": "stream",
     "text": [
      "\n",
      "Elapsed Time: 6.78 mins.\n"
     ]
    }
   ],
   "source": [
    "end = time.time()\n",
    "elapsed = (end - start) / 60.0 # in minutes\n",
    "print(\"\\nElapsed Time: {0:3.2f} mins.\".format(elapsed)) # 223.58 mins."
   ]
  },
  {
   "cell_type": "code",
   "execution_count": 80,
   "metadata": {},
   "outputs": [
    {
     "data": {
      "image/png": "[encoded data removed]",
      "text/plain": [
       "<Figure size 432x288 with 1 Axes>"
      ]
     },
     "metadata": {
      "needs_background": "light"
     },
     "output_type": "display_data"
    }
   ],
   "source": [
    "# plot the scores\n",
    "fig = plt.figure()\n",
    "ax = fig.add_subplot(111)\n",
    "plt.plot(np.arange(len(scores)), scores, label='DDPG')\n",
    "plt.plot(np.arange(len(scores)), avgs, c='r', label='Moving AVG')\n",
    "plt.ylabel('Score')\n",
    "plt.xlabel('Episode #')\n",
    "plt.legend(loc='upper left');\n",
    "plt.show()"
   ]
  },
  {
   "cell_type": "markdown",
   "metadata": {},
   "source": [
    "When finished, you can close the environment."
   ]
  },
  {
   "cell_type": "code",
   "execution_count": null,
   "metadata": {},
   "outputs": [],
   "source": [
    "env.close()"
   ]
  }
 ],
 "metadata": {
  "kernelspec": {
   "display_name": "Python 3",
   "language": "python",
   "name": "python3"
  },
  "language_info": {
   "codemirror_mode": {
    "name": "ipython",
    "version": 3
   },
   "file_extension": ".py",
   "mimetype": "text/x-python",
   "name": "python",
   "nbconvert_exporter": "python",
   "pygments_lexer": "ipython3",
   "version": "3.6.9"
  }
 },
 "nbformat": 4,
 "nbformat_minor": 2
}
